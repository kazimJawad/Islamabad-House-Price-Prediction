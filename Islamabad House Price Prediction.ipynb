{
 "cells": [
  {
   "cell_type": "code",
   "execution_count": 1,
   "id": "bd369b91",
   "metadata": {
    "_cell_guid": "b1076dfc-b9ad-4769-8c92-a6c4dae69d19",
    "_uuid": "8f2839f25d086af736a60e9eeb907d3b93b6e0e5",
    "execution": {
     "iopub.execute_input": "2022-09-21T15:31:45.308024Z",
     "iopub.status.busy": "2022-09-21T15:31:45.307556Z",
     "iopub.status.idle": "2022-09-21T15:31:45.320409Z",
     "shell.execute_reply": "2022-09-21T15:31:45.319575Z"
    },
    "papermill": {
     "duration": 0.026045,
     "end_time": "2022-09-21T15:31:45.323066",
     "exception": false,
     "start_time": "2022-09-21T15:31:45.297021",
     "status": "completed"
    },
    "tags": []
   },
   "outputs": [],
   "source": [
    "import pandas as pd\n",
    "import numpy as np\n",
    "import matplotlib.pyplot as plt\n",
    "%matplotlib inline"
   ]
  },
  {
   "cell_type": "code",
   "execution_count": 2,
   "id": "55260ba9",
   "metadata": {
    "execution": {
     "iopub.execute_input": "2022-09-21T15:31:45.340899Z",
     "iopub.status.busy": "2022-09-21T15:31:45.340227Z",
     "iopub.status.idle": "2022-09-21T15:31:45.384691Z",
     "shell.execute_reply": "2022-09-21T15:31:45.383531Z"
    },
    "papermill": {
     "duration": 0.056586,
     "end_time": "2022-09-21T15:31:45.387537",
     "exception": false,
     "start_time": "2022-09-21T15:31:45.330951",
     "status": "completed"
    },
    "tags": []
   },
   "outputs": [
    {
     "data": {
      "text/plain": [
       "(11870, 6)"
      ]
     },
     "execution_count": 2,
     "metadata": {},
     "output_type": "execute_result"
    }
   ],
   "source": [
    "df = pd.read_csv(\"../input/islamabad-house-prices/isb_data.csv\")\n",
    "df.shape"
   ]
  },
  {
   "cell_type": "code",
   "execution_count": 3,
   "id": "0c92703c",
   "metadata": {
    "execution": {
     "iopub.execute_input": "2022-09-21T15:31:45.407807Z",
     "iopub.status.busy": "2022-09-21T15:31:45.407383Z",
     "iopub.status.idle": "2022-09-21T15:31:45.432791Z",
     "shell.execute_reply": "2022-09-21T15:31:45.431630Z"
    },
    "papermill": {
     "duration": 0.037548,
     "end_time": "2022-09-21T15:31:45.435195",
     "exception": false,
     "start_time": "2022-09-21T15:31:45.397647",
     "status": "completed"
    },
    "tags": []
   },
   "outputs": [
    {
     "data": {
      "text/html": [
       "<div>\n",
       "<style scoped>\n",
       "    .dataframe tbody tr th:only-of-type {\n",
       "        vertical-align: middle;\n",
       "    }\n",
       "\n",
       "    .dataframe tbody tr th {\n",
       "        vertical-align: top;\n",
       "    }\n",
       "\n",
       "    .dataframe thead th {\n",
       "        text-align: right;\n",
       "    }\n",
       "</style>\n",
       "<table border=\"1\" class=\"dataframe\">\n",
       "  <thead>\n",
       "    <tr style=\"text-align: right;\">\n",
       "      <th></th>\n",
       "      <th>Unnamed: 0</th>\n",
       "      <th>price</th>\n",
       "      <th>location</th>\n",
       "      <th>baths</th>\n",
       "      <th>bedrooms</th>\n",
       "      <th>Total_Area</th>\n",
       "    </tr>\n",
       "  </thead>\n",
       "  <tbody>\n",
       "    <tr>\n",
       "      <th>0</th>\n",
       "      <td>2</td>\n",
       "      <td>165.0</td>\n",
       "      <td>G-15</td>\n",
       "      <td>6</td>\n",
       "      <td>5</td>\n",
       "      <td>2178.008</td>\n",
       "    </tr>\n",
       "    <tr>\n",
       "      <th>1</th>\n",
       "      <td>3</td>\n",
       "      <td>435.0</td>\n",
       "      <td>Bani Gala</td>\n",
       "      <td>4</td>\n",
       "      <td>4</td>\n",
       "      <td>10890.000</td>\n",
       "    </tr>\n",
       "    <tr>\n",
       "      <th>2</th>\n",
       "      <td>4</td>\n",
       "      <td>70.0</td>\n",
       "      <td>DHA Defence</td>\n",
       "      <td>3</td>\n",
       "      <td>3</td>\n",
       "      <td>2178.008</td>\n",
       "    </tr>\n",
       "    <tr>\n",
       "      <th>3</th>\n",
       "      <td>5</td>\n",
       "      <td>345.0</td>\n",
       "      <td>Ghauri Town</td>\n",
       "      <td>8</td>\n",
       "      <td>8</td>\n",
       "      <td>87120.000</td>\n",
       "    </tr>\n",
       "    <tr>\n",
       "      <th>4</th>\n",
       "      <td>6</td>\n",
       "      <td>270.0</td>\n",
       "      <td>Korang Town</td>\n",
       "      <td>8</td>\n",
       "      <td>8</td>\n",
       "      <td>5445.000</td>\n",
       "    </tr>\n",
       "  </tbody>\n",
       "</table>\n",
       "</div>"
      ],
      "text/plain": [
       "   Unnamed: 0  price     location  baths  bedrooms  Total_Area\n",
       "0           2  165.0         G-15      6         5    2178.008\n",
       "1           3  435.0    Bani Gala      4         4   10890.000\n",
       "2           4   70.0  DHA Defence      3         3    2178.008\n",
       "3           5  345.0  Ghauri Town      8         8   87120.000\n",
       "4           6  270.0  Korang Town      8         8    5445.000"
      ]
     },
     "execution_count": 3,
     "metadata": {},
     "output_type": "execute_result"
    }
   ],
   "source": [
    "df.head()"
   ]
  },
  {
   "cell_type": "markdown",
   "id": "53396a69",
   "metadata": {
    "papermill": {
     "duration": 0.00751,
     "end_time": "2022-09-21T15:31:45.450773",
     "exception": false,
     "start_time": "2022-09-21T15:31:45.443263",
     "status": "completed"
    },
    "tags": []
   },
   "source": [
    "# Data Exploration"
   ]
  },
  {
   "cell_type": "code",
   "execution_count": 4,
   "id": "ed30326f",
   "metadata": {
    "execution": {
     "iopub.execute_input": "2022-09-21T15:31:45.467960Z",
     "iopub.status.busy": "2022-09-21T15:31:45.467557Z",
     "iopub.status.idle": "2022-09-21T15:31:45.509432Z",
     "shell.execute_reply": "2022-09-21T15:31:45.508235Z"
    },
    "papermill": {
     "duration": 0.053412,
     "end_time": "2022-09-21T15:31:45.511787",
     "exception": false,
     "start_time": "2022-09-21T15:31:45.458375",
     "status": "completed"
    },
    "tags": []
   },
   "outputs": [
    {
     "data": {
      "text/html": [
       "<div>\n",
       "<style scoped>\n",
       "    .dataframe tbody tr th:only-of-type {\n",
       "        vertical-align: middle;\n",
       "    }\n",
       "\n",
       "    .dataframe tbody tr th {\n",
       "        vertical-align: top;\n",
       "    }\n",
       "\n",
       "    .dataframe thead th {\n",
       "        text-align: right;\n",
       "    }\n",
       "</style>\n",
       "<table border=\"1\" class=\"dataframe\">\n",
       "  <thead>\n",
       "    <tr style=\"text-align: right;\">\n",
       "      <th></th>\n",
       "      <th>Unnamed: 0</th>\n",
       "      <th>price</th>\n",
       "      <th>location</th>\n",
       "      <th>baths</th>\n",
       "      <th>bedrooms</th>\n",
       "      <th>Total_Area</th>\n",
       "    </tr>\n",
       "  </thead>\n",
       "  <tbody>\n",
       "    <tr>\n",
       "      <th>count</th>\n",
       "      <td>11870.000000</td>\n",
       "      <td>11870.000000</td>\n",
       "      <td>11870</td>\n",
       "      <td>11870.000000</td>\n",
       "      <td>11870.000000</td>\n",
       "      <td>1.187000e+04</td>\n",
       "    </tr>\n",
       "    <tr>\n",
       "      <th>unique</th>\n",
       "      <td>NaN</td>\n",
       "      <td>NaN</td>\n",
       "      <td>175</td>\n",
       "      <td>NaN</td>\n",
       "      <td>NaN</td>\n",
       "      <td>NaN</td>\n",
       "    </tr>\n",
       "    <tr>\n",
       "      <th>top</th>\n",
       "      <td>NaN</td>\n",
       "      <td>NaN</td>\n",
       "      <td>DHA Defence</td>\n",
       "      <td>NaN</td>\n",
       "      <td>NaN</td>\n",
       "      <td>NaN</td>\n",
       "    </tr>\n",
       "    <tr>\n",
       "      <th>freq</th>\n",
       "      <td>NaN</td>\n",
       "      <td>NaN</td>\n",
       "      <td>1420</td>\n",
       "      <td>NaN</td>\n",
       "      <td>NaN</td>\n",
       "      <td>NaN</td>\n",
       "    </tr>\n",
       "    <tr>\n",
       "      <th>mean</th>\n",
       "      <td>77402.770093</td>\n",
       "      <td>353.800546</td>\n",
       "      <td>NaN</td>\n",
       "      <td>4.012890</td>\n",
       "      <td>4.222157</td>\n",
       "      <td>4.214460e+04</td>\n",
       "    </tr>\n",
       "    <tr>\n",
       "      <th>std</th>\n",
       "      <td>47848.583083</td>\n",
       "      <td>441.489680</td>\n",
       "      <td>NaN</td>\n",
       "      <td>2.676841</td>\n",
       "      <td>2.324489</td>\n",
       "      <td>3.109849e+06</td>\n",
       "    </tr>\n",
       "    <tr>\n",
       "      <th>min</th>\n",
       "      <td>2.000000</td>\n",
       "      <td>0.000010</td>\n",
       "      <td>NaN</td>\n",
       "      <td>0.000000</td>\n",
       "      <td>0.000000</td>\n",
       "      <td>0.000000e+00</td>\n",
       "    </tr>\n",
       "    <tr>\n",
       "      <th>25%</th>\n",
       "      <td>37311.250000</td>\n",
       "      <td>120.000000</td>\n",
       "      <td>NaN</td>\n",
       "      <td>2.000000</td>\n",
       "      <td>3.000000</td>\n",
       "      <td>1.633506e+03</td>\n",
       "    </tr>\n",
       "    <tr>\n",
       "      <th>50%</th>\n",
       "      <td>72717.000000</td>\n",
       "      <td>200.000000</td>\n",
       "      <td>NaN</td>\n",
       "      <td>4.000000</td>\n",
       "      <td>4.000000</td>\n",
       "      <td>2.722510e+03</td>\n",
       "    </tr>\n",
       "    <tr>\n",
       "      <th>75%</th>\n",
       "      <td>114410.250000</td>\n",
       "      <td>425.000000</td>\n",
       "      <td>NaN</td>\n",
       "      <td>6.000000</td>\n",
       "      <td>6.000000</td>\n",
       "      <td>1.089000e+04</td>\n",
       "    </tr>\n",
       "    <tr>\n",
       "      <th>max</th>\n",
       "      <td>168312.000000</td>\n",
       "      <td>3900.000000</td>\n",
       "      <td>NaN</td>\n",
       "      <td>14.000000</td>\n",
       "      <td>16.000000</td>\n",
       "      <td>3.387988e+08</td>\n",
       "    </tr>\n",
       "  </tbody>\n",
       "</table>\n",
       "</div>"
      ],
      "text/plain": [
       "           Unnamed: 0         price     location         baths      bedrooms  \\\n",
       "count    11870.000000  11870.000000        11870  11870.000000  11870.000000   \n",
       "unique            NaN           NaN          175           NaN           NaN   \n",
       "top               NaN           NaN  DHA Defence           NaN           NaN   \n",
       "freq              NaN           NaN         1420           NaN           NaN   \n",
       "mean     77402.770093    353.800546          NaN      4.012890      4.222157   \n",
       "std      47848.583083    441.489680          NaN      2.676841      2.324489   \n",
       "min          2.000000      0.000010          NaN      0.000000      0.000000   \n",
       "25%      37311.250000    120.000000          NaN      2.000000      3.000000   \n",
       "50%      72717.000000    200.000000          NaN      4.000000      4.000000   \n",
       "75%     114410.250000    425.000000          NaN      6.000000      6.000000   \n",
       "max     168312.000000   3900.000000          NaN     14.000000     16.000000   \n",
       "\n",
       "          Total_Area  \n",
       "count   1.187000e+04  \n",
       "unique           NaN  \n",
       "top              NaN  \n",
       "freq             NaN  \n",
       "mean    4.214460e+04  \n",
       "std     3.109849e+06  \n",
       "min     0.000000e+00  \n",
       "25%     1.633506e+03  \n",
       "50%     2.722510e+03  \n",
       "75%     1.089000e+04  \n",
       "max     3.387988e+08  "
      ]
     },
     "execution_count": 4,
     "metadata": {},
     "output_type": "execute_result"
    }
   ],
   "source": [
    "df.describe(include='all')"
   ]
  },
  {
   "cell_type": "code",
   "execution_count": 5,
   "id": "b2251bf2",
   "metadata": {
    "execution": {
     "iopub.execute_input": "2022-09-21T15:31:45.531730Z",
     "iopub.status.busy": "2022-09-21T15:31:45.531114Z",
     "iopub.status.idle": "2022-09-21T15:31:45.542232Z",
     "shell.execute_reply": "2022-09-21T15:31:45.541267Z"
    },
    "papermill": {
     "duration": 0.02405,
     "end_time": "2022-09-21T15:31:45.544253",
     "exception": false,
     "start_time": "2022-09-21T15:31:45.520203",
     "status": "completed"
    },
    "tags": []
   },
   "outputs": [
    {
     "data": {
      "text/plain": [
       "Unnamed: 0    0\n",
       "price         0\n",
       "location      0\n",
       "baths         0\n",
       "bedrooms      0\n",
       "Total_Area    0\n",
       "dtype: int64"
      ]
     },
     "execution_count": 5,
     "metadata": {},
     "output_type": "execute_result"
    }
   ],
   "source": [
    "df.isnull().sum()"
   ]
  },
  {
   "cell_type": "code",
   "execution_count": 6,
   "id": "4758cf37",
   "metadata": {
    "execution": {
     "iopub.execute_input": "2022-09-21T15:31:45.562142Z",
     "iopub.status.busy": "2022-09-21T15:31:45.561762Z",
     "iopub.status.idle": "2022-09-21T15:31:45.569568Z",
     "shell.execute_reply": "2022-09-21T15:31:45.568498Z"
    },
    "papermill": {
     "duration": 0.019554,
     "end_time": "2022-09-21T15:31:45.571842",
     "exception": false,
     "start_time": "2022-09-21T15:31:45.552288",
     "status": "completed"
    },
    "tags": []
   },
   "outputs": [
    {
     "data": {
      "text/plain": [
       "Unnamed: 0      int64\n",
       "price         float64\n",
       "location       object\n",
       "baths           int64\n",
       "bedrooms        int64\n",
       "Total_Area    float64\n",
       "dtype: object"
      ]
     },
     "execution_count": 6,
     "metadata": {},
     "output_type": "execute_result"
    }
   ],
   "source": [
    "df.dtypes"
   ]
  },
  {
   "cell_type": "code",
   "execution_count": 7,
   "id": "6fb2a7a8",
   "metadata": {
    "execution": {
     "iopub.execute_input": "2022-09-21T15:31:45.590155Z",
     "iopub.status.busy": "2022-09-21T15:31:45.589767Z",
     "iopub.status.idle": "2022-09-21T15:31:45.598464Z",
     "shell.execute_reply": "2022-09-21T15:31:45.597335Z"
    },
    "papermill": {
     "duration": 0.020619,
     "end_time": "2022-09-21T15:31:45.600742",
     "exception": false,
     "start_time": "2022-09-21T15:31:45.580123",
     "status": "completed"
    },
    "tags": []
   },
   "outputs": [
    {
     "data": {
      "text/plain": [
       "<bound method IndexOpsMixin.nunique of 0               G-15\n",
       "1          Bani Gala\n",
       "2        DHA Defence\n",
       "3        Ghauri Town\n",
       "4        Korang Town\n",
       "            ...     \n",
       "11865    Soan Garden\n",
       "11866           G-13\n",
       "11867    Soan Garden\n",
       "11868            F-7\n",
       "11869           D-12\n",
       "Name: location, Length: 11870, dtype: object>"
      ]
     },
     "execution_count": 7,
     "metadata": {},
     "output_type": "execute_result"
    }
   ],
   "source": [
    "df['location'].nunique"
   ]
  },
  {
   "cell_type": "code",
   "execution_count": 8,
   "id": "2fe9cdab",
   "metadata": {
    "execution": {
     "iopub.execute_input": "2022-09-21T15:31:45.619385Z",
     "iopub.status.busy": "2022-09-21T15:31:45.618609Z",
     "iopub.status.idle": "2022-09-21T15:31:45.634939Z",
     "shell.execute_reply": "2022-09-21T15:31:45.634076Z"
    },
    "papermill": {
     "duration": 0.028339,
     "end_time": "2022-09-21T15:31:45.637430",
     "exception": false,
     "start_time": "2022-09-21T15:31:45.609091",
     "status": "completed"
    },
    "tags": []
   },
   "outputs": [],
   "source": [
    "temp = pd.DataFrame(index=df.columns)\n",
    "temp['data_type'] = df.dtypes\n",
    "temp['null_count'] = df.isnull().sum()\n",
    "temp['unique_count'] = df.nunique()"
   ]
  },
  {
   "cell_type": "code",
   "execution_count": 9,
   "id": "6d61aebd",
   "metadata": {
    "execution": {
     "iopub.execute_input": "2022-09-21T15:31:45.657305Z",
     "iopub.status.busy": "2022-09-21T15:31:45.656658Z",
     "iopub.status.idle": "2022-09-21T15:31:45.667639Z",
     "shell.execute_reply": "2022-09-21T15:31:45.666417Z"
    },
    "papermill": {
     "duration": 0.02336,
     "end_time": "2022-09-21T15:31:45.669873",
     "exception": false,
     "start_time": "2022-09-21T15:31:45.646513",
     "status": "completed"
    },
    "tags": []
   },
   "outputs": [
    {
     "data": {
      "text/html": [
       "<div>\n",
       "<style scoped>\n",
       "    .dataframe tbody tr th:only-of-type {\n",
       "        vertical-align: middle;\n",
       "    }\n",
       "\n",
       "    .dataframe tbody tr th {\n",
       "        vertical-align: top;\n",
       "    }\n",
       "\n",
       "    .dataframe thead th {\n",
       "        text-align: right;\n",
       "    }\n",
       "</style>\n",
       "<table border=\"1\" class=\"dataframe\">\n",
       "  <thead>\n",
       "    <tr style=\"text-align: right;\">\n",
       "      <th></th>\n",
       "      <th>data_type</th>\n",
       "      <th>null_count</th>\n",
       "      <th>unique_count</th>\n",
       "    </tr>\n",
       "  </thead>\n",
       "  <tbody>\n",
       "    <tr>\n",
       "      <th>Unnamed: 0</th>\n",
       "      <td>int64</td>\n",
       "      <td>0</td>\n",
       "      <td>11870</td>\n",
       "    </tr>\n",
       "    <tr>\n",
       "      <th>price</th>\n",
       "      <td>float64</td>\n",
       "      <td>0</td>\n",
       "      <td>521</td>\n",
       "    </tr>\n",
       "    <tr>\n",
       "      <th>location</th>\n",
       "      <td>object</td>\n",
       "      <td>0</td>\n",
       "      <td>175</td>\n",
       "    </tr>\n",
       "    <tr>\n",
       "      <th>baths</th>\n",
       "      <td>int64</td>\n",
       "      <td>0</td>\n",
       "      <td>14</td>\n",
       "    </tr>\n",
       "    <tr>\n",
       "      <th>bedrooms</th>\n",
       "      <td>int64</td>\n",
       "      <td>0</td>\n",
       "      <td>15</td>\n",
       "    </tr>\n",
       "    <tr>\n",
       "      <th>Total_Area</th>\n",
       "      <td>float64</td>\n",
       "      <td>0</td>\n",
       "      <td>160</td>\n",
       "    </tr>\n",
       "  </tbody>\n",
       "</table>\n",
       "</div>"
      ],
      "text/plain": [
       "           data_type  null_count  unique_count\n",
       "Unnamed: 0     int64           0         11870\n",
       "price        float64           0           521\n",
       "location      object           0           175\n",
       "baths          int64           0            14\n",
       "bedrooms       int64           0            15\n",
       "Total_Area   float64           0           160"
      ]
     },
     "execution_count": 9,
     "metadata": {},
     "output_type": "execute_result"
    }
   ],
   "source": [
    "temp"
   ]
  },
  {
   "cell_type": "markdown",
   "id": "38b38f94",
   "metadata": {
    "papermill": {
     "duration": 0.008299,
     "end_time": "2022-09-21T15:31:45.686658",
     "exception": false,
     "start_time": "2022-09-21T15:31:45.678359",
     "status": "completed"
    },
    "tags": []
   },
   "source": [
    "# Data Visualization"
   ]
  },
  {
   "cell_type": "code",
   "execution_count": 10,
   "id": "1b23cf3a",
   "metadata": {
    "execution": {
     "iopub.execute_input": "2022-09-21T15:31:45.705709Z",
     "iopub.status.busy": "2022-09-21T15:31:45.705263Z",
     "iopub.status.idle": "2022-09-21T15:31:48.791142Z",
     "shell.execute_reply": "2022-09-21T15:31:48.790284Z"
    },
    "papermill": {
     "duration": 3.099656,
     "end_time": "2022-09-21T15:31:48.794819",
     "exception": false,
     "start_time": "2022-09-21T15:31:45.695163",
     "status": "completed"
    },
    "tags": []
   },
   "outputs": [
    {
     "data": {
      "text/plain": [
       "Text(0, 0.5, 'Value Count')"
      ]
     },
     "execution_count": 10,
     "metadata": {},
     "output_type": "execute_result"
    },
    {
     "data": {
      "image/png": "[encoded data removed]",
      "text/plain": [
       "<Figure size 1440x432 with 1 Axes>"
      ]
     },
     "metadata": {
      "needs_background": "light"
     },
     "output_type": "display_data"
    }
   ],
   "source": [
    "plt.figure(figsize=(20,6))\n",
    "df['location'].value_counts().plot(kind='bar')\n",
    "plt.title('Location and House frequency')\n",
    "plt.xlabel('Location')\n",
    "plt.ylabel('Value Count')"
   ]
  },
  {
   "cell_type": "code",
   "execution_count": 11,
   "id": "bca3bee6",
   "metadata": {
    "execution": {
     "iopub.execute_input": "2022-09-21T15:31:48.819201Z",
     "iopub.status.busy": "2022-09-21T15:31:48.818144Z",
     "iopub.status.idle": "2022-09-21T15:31:49.057530Z",
     "shell.execute_reply": "2022-09-21T15:31:49.056458Z"
    },
    "papermill": {
     "duration": 0.254117,
     "end_time": "2022-09-21T15:31:49.060065",
     "exception": false,
     "start_time": "2022-09-21T15:31:48.805948",
     "status": "completed"
    },
    "tags": []
   },
   "outputs": [
    {
     "data": {
      "text/plain": [
       "Text(0, 0.5, 'Count')"
      ]
     },
     "execution_count": 11,
     "metadata": {},
     "output_type": "execute_result"
    },
    {
     "data": {
      "image/png": "[encoded data removed]",
      "text/plain": [
       "<Figure size 432x288 with 1 Axes>"
      ]
     },
     "metadata": {
      "needs_background": "light"
     },
     "output_type": "display_data"
    }
   ],
   "source": [
    "df['bedrooms'].value_counts().plot(kind='bar')\n",
    "plt.title('Number of Bedrooms')\n",
    "plt.xlabel('Bedrooms')\n",
    "plt.ylabel('Count')"
   ]
  },
  {
   "cell_type": "code",
   "execution_count": 12,
   "id": "e65b1e4c",
   "metadata": {
    "execution": {
     "iopub.execute_input": "2022-09-21T15:31:49.085316Z",
     "iopub.status.busy": "2022-09-21T15:31:49.084566Z",
     "iopub.status.idle": "2022-09-21T15:31:49.331542Z",
     "shell.execute_reply": "2022-09-21T15:31:49.330455Z"
    },
    "papermill": {
     "duration": 0.262008,
     "end_time": "2022-09-21T15:31:49.333823",
     "exception": false,
     "start_time": "2022-09-21T15:31:49.071815",
     "status": "completed"
    },
    "tags": []
   },
   "outputs": [
    {
     "data": {
      "text/plain": [
       "Text(0, 0.5, 'Count')"
      ]
     },
     "execution_count": 12,
     "metadata": {},
     "output_type": "execute_result"
    },
    {
     "data": {
      "image/png": "[encoded data removed]",
      "text/plain": [
       "<Figure size 432x288 with 1 Axes>"
      ]
     },
     "metadata": {
      "needs_background": "light"
     },
     "output_type": "display_data"
    }
   ],
   "source": [
    "df['baths'].value_counts().plot(kind='bar')\n",
    "plt.title('number of Bathrooms')\n",
    "plt.xlabel('baths')\n",
    "plt.ylabel('Count')"
   ]
  },
  {
   "cell_type": "code",
   "execution_count": 13,
   "id": "9bb43ac1",
   "metadata": {
    "execution": {
     "iopub.execute_input": "2022-09-21T15:31:49.358642Z",
     "iopub.status.busy": "2022-09-21T15:31:49.357532Z",
     "iopub.status.idle": "2022-09-21T15:31:49.592040Z",
     "shell.execute_reply": "2022-09-21T15:31:49.590918Z"
    },
    "papermill": {
     "duration": 0.249622,
     "end_time": "2022-09-21T15:31:49.594549",
     "exception": false,
     "start_time": "2022-09-21T15:31:49.344927",
     "status": "completed"
    },
    "tags": []
   },
   "outputs": [
    {
     "data": {
      "image/png": "[encoded data removed]",
      "text/plain": [
       "<Figure size 432x288 with 1 Axes>"
      ]
     },
     "metadata": {
      "needs_background": "light"
     },
     "output_type": "display_data"
    }
   ],
   "source": [
    "plt.scatter(df.bedrooms,df.price)\n",
    "plt.title(\"Bedroom and Price \")\n",
    "plt.xlabel(\"Bedrooms\")\n",
    "plt.ylabel(\"Price\")\n",
    "plt.show()"
   ]
  },
  {
   "cell_type": "code",
   "execution_count": 14,
   "id": "2fbb66af",
   "metadata": {
    "execution": {
     "iopub.execute_input": "2022-09-21T15:31:49.619929Z",
     "iopub.status.busy": "2022-09-21T15:31:49.619517Z",
     "iopub.status.idle": "2022-09-21T15:31:49.839660Z",
     "shell.execute_reply": "2022-09-21T15:31:49.838782Z"
    },
    "papermill": {
     "duration": 0.235385,
     "end_time": "2022-09-21T15:31:49.841913",
     "exception": false,
     "start_time": "2022-09-21T15:31:49.606528",
     "status": "completed"
    },
    "tags": []
   },
   "outputs": [
    {
     "data": {
      "image/png": "[encoded data removed]",
      "text/plain": [
       "<Figure size 432x288 with 1 Axes>"
      ]
     },
     "metadata": {
      "needs_background": "light"
     },
     "output_type": "display_data"
    }
   ],
   "source": [
    "plt.scatter(df.baths,df.price)\n",
    "plt.title(\"Bathrooms and Price \")\n",
    "plt.xlabel(\"Bathrooms\")\n",
    "plt.ylabel(\"Price\")\n",
    "plt.show()"
   ]
  },
  {
   "cell_type": "code",
   "execution_count": 15,
   "id": "64d192e1",
   "metadata": {
    "execution": {
     "iopub.execute_input": "2022-09-21T15:31:49.869401Z",
     "iopub.status.busy": "2022-09-21T15:31:49.868235Z",
     "iopub.status.idle": "2022-09-21T15:31:50.137152Z",
     "shell.execute_reply": "2022-09-21T15:31:50.135948Z"
    },
    "papermill": {
     "duration": 0.284834,
     "end_time": "2022-09-21T15:31:50.139534",
     "exception": false,
     "start_time": "2022-09-21T15:31:49.854700",
     "status": "completed"
    },
    "tags": []
   },
   "outputs": [
    {
     "data": {
      "text/plain": [
       "<AxesSubplot:xlabel='price', ylabel='Total_Area'>"
      ]
     },
     "execution_count": 15,
     "metadata": {},
     "output_type": "execute_result"
    },
    {
     "data": {
      "image/png": "[encoded data removed]",
      "text/plain": [
       "<Figure size 432x288 with 1 Axes>"
      ]
     },
     "metadata": {
      "needs_background": "light"
     },
     "output_type": "display_data"
    }
   ],
   "source": [
    "df.plot.scatter('price','Total_Area')"
   ]
  },
  {
   "cell_type": "code",
   "execution_count": 16,
   "id": "88d02a4a",
   "metadata": {
    "execution": {
     "iopub.execute_input": "2022-09-21T15:31:50.167456Z",
     "iopub.status.busy": "2022-09-21T15:31:50.167058Z",
     "iopub.status.idle": "2022-09-21T15:31:50.355101Z",
     "shell.execute_reply": "2022-09-21T15:31:50.353869Z"
    },
    "papermill": {
     "duration": 0.204482,
     "end_time": "2022-09-21T15:31:50.357705",
     "exception": false,
     "start_time": "2022-09-21T15:31:50.153223",
     "status": "completed"
    },
    "tags": []
   },
   "outputs": [
    {
     "data": {
      "image/png": "[encoded data removed]",
      "text/plain": [
       "<Figure size 432x432 with 1 Axes>"
      ]
     },
     "metadata": {
      "needs_background": "light"
     },
     "output_type": "display_data"
    }
   ],
   "source": [
    "ax = plt.figure(figsize=(6,6)).add_subplot(111)\n",
    "ax.set_title('Price for Houses')\n",
    "\n",
    "bp = ax.boxplot([df['bedrooms'], df['baths']])"
   ]
  },
  {
   "cell_type": "code",
   "execution_count": 17,
   "id": "767ea8db",
   "metadata": {
    "execution": {
     "iopub.execute_input": "2022-09-21T15:31:50.386838Z",
     "iopub.status.busy": "2022-09-21T15:31:50.386065Z",
     "iopub.status.idle": "2022-09-21T15:31:50.392918Z",
     "shell.execute_reply": "2022-09-21T15:31:50.391777Z"
    },
    "papermill": {
     "duration": 0.024595,
     "end_time": "2022-09-21T15:31:50.395326",
     "exception": false,
     "start_time": "2022-09-21T15:31:50.370731",
     "status": "completed"
    },
    "tags": []
   },
   "outputs": [],
   "source": [
    "X = df[['Total_Area', 'price', 'bedrooms','baths']]\n",
    "\n",
    "y = df['price']"
   ]
  },
  {
   "cell_type": "code",
   "execution_count": 18,
   "id": "85622f71",
   "metadata": {
    "execution": {
     "iopub.execute_input": "2022-09-21T15:31:50.422996Z",
     "iopub.status.busy": "2022-09-21T15:31:50.422224Z",
     "iopub.status.idle": "2022-09-21T15:31:51.413923Z",
     "shell.execute_reply": "2022-09-21T15:31:51.412919Z"
    },
    "papermill": {
     "duration": 1.00787,
     "end_time": "2022-09-21T15:31:51.416652",
     "exception": false,
     "start_time": "2022-09-21T15:31:50.408782",
     "status": "completed"
    },
    "tags": []
   },
   "outputs": [],
   "source": [
    "from sklearn.model_selection import train_test_split"
   ]
  },
  {
   "cell_type": "code",
   "execution_count": 19,
   "id": "a6af4133",
   "metadata": {
    "execution": {
     "iopub.execute_input": "2022-09-21T15:31:51.444680Z",
     "iopub.status.busy": "2022-09-21T15:31:51.443496Z",
     "iopub.status.idle": "2022-09-21T15:31:51.452850Z",
     "shell.execute_reply": "2022-09-21T15:31:51.451797Z"
    },
    "papermill": {
     "duration": 0.025827,
     "end_time": "2022-09-21T15:31:51.455244",
     "exception": false,
     "start_time": "2022-09-21T15:31:51.429417",
     "status": "completed"
    },
    "tags": []
   },
   "outputs": [],
   "source": [
    "X_train, X_test, y_train, y_test = train_test_split(X, y, test_size=0.4, random_state=101)"
   ]
  },
  {
   "cell_type": "code",
   "execution_count": 20,
   "id": "54c0c298",
   "metadata": {
    "execution": {
     "iopub.execute_input": "2022-09-21T15:31:51.482506Z",
     "iopub.status.busy": "2022-09-21T15:31:51.481876Z",
     "iopub.status.idle": "2022-09-21T15:31:51.557195Z",
     "shell.execute_reply": "2022-09-21T15:31:51.556160Z"
    },
    "papermill": {
     "duration": 0.091427,
     "end_time": "2022-09-21T15:31:51.559664",
     "exception": false,
     "start_time": "2022-09-21T15:31:51.468237",
     "status": "completed"
    },
    "tags": []
   },
   "outputs": [],
   "source": [
    "from sklearn.linear_model import LinearRegression"
   ]
  },
  {
   "cell_type": "code",
   "execution_count": 21,
   "id": "22344437",
   "metadata": {
    "execution": {
     "iopub.execute_input": "2022-09-21T15:31:51.586252Z",
     "iopub.status.busy": "2022-09-21T15:31:51.585342Z",
     "iopub.status.idle": "2022-09-21T15:31:51.590368Z",
     "shell.execute_reply": "2022-09-21T15:31:51.589321Z"
    },
    "papermill": {
     "duration": 0.020518,
     "end_time": "2022-09-21T15:31:51.592590",
     "exception": false,
     "start_time": "2022-09-21T15:31:51.572072",
     "status": "completed"
    },
    "tags": []
   },
   "outputs": [],
   "source": [
    "lr = LinearRegression()"
   ]
  },
  {
   "cell_type": "code",
   "execution_count": 22,
   "id": "3bc2f80d",
   "metadata": {
    "execution": {
     "iopub.execute_input": "2022-09-21T15:31:51.620070Z",
     "iopub.status.busy": "2022-09-21T15:31:51.618893Z",
     "iopub.status.idle": "2022-09-21T15:31:51.645961Z",
     "shell.execute_reply": "2022-09-21T15:31:51.645086Z"
    },
    "papermill": {
     "duration": 0.043041,
     "end_time": "2022-09-21T15:31:51.648147",
     "exception": false,
     "start_time": "2022-09-21T15:31:51.605106",
     "status": "completed"
    },
    "tags": []
   },
   "outputs": [
    {
     "data": {
      "text/plain": [
       "LinearRegression()"
      ]
     },
     "execution_count": 22,
     "metadata": {},
     "output_type": "execute_result"
    }
   ],
   "source": [
    "lr.fit(X_train,y_train)"
   ]
  },
  {
   "cell_type": "code",
   "execution_count": 23,
   "id": "094583da",
   "metadata": {
    "execution": {
     "iopub.execute_input": "2022-09-21T15:31:51.674981Z",
     "iopub.status.busy": "2022-09-21T15:31:51.674330Z",
     "iopub.status.idle": "2022-09-21T15:31:51.679498Z",
     "shell.execute_reply": "2022-09-21T15:31:51.678345Z"
    },
    "papermill": {
     "duration": 0.021435,
     "end_time": "2022-09-21T15:31:51.682012",
     "exception": false,
     "start_time": "2022-09-21T15:31:51.660577",
     "status": "completed"
    },
    "tags": []
   },
   "outputs": [
    {
     "name": "stdout",
     "output_type": "stream",
     "text": [
      "-1.5836576494621113e-10\n"
     ]
    }
   ],
   "source": [
    "print(lr.intercept_)"
   ]
  },
  {
   "cell_type": "code",
   "execution_count": 24,
   "id": "c40eca68",
   "metadata": {
    "execution": {
     "iopub.execute_input": "2022-09-21T15:31:51.709510Z",
     "iopub.status.busy": "2022-09-21T15:31:51.708377Z",
     "iopub.status.idle": "2022-09-21T15:31:51.719501Z",
     "shell.execute_reply": "2022-09-21T15:31:51.718666Z"
    },
    "papermill": {
     "duration": 0.027036,
     "end_time": "2022-09-21T15:31:51.721690",
     "exception": false,
     "start_time": "2022-09-21T15:31:51.694654",
     "status": "completed"
    },
    "tags": []
   },
   "outputs": [
    {
     "data": {
      "text/html": [
       "<div>\n",
       "<style scoped>\n",
       "    .dataframe tbody tr th:only-of-type {\n",
       "        vertical-align: middle;\n",
       "    }\n",
       "\n",
       "    .dataframe tbody tr th {\n",
       "        vertical-align: top;\n",
       "    }\n",
       "\n",
       "    .dataframe thead th {\n",
       "        text-align: right;\n",
       "    }\n",
       "</style>\n",
       "<table border=\"1\" class=\"dataframe\">\n",
       "  <thead>\n",
       "    <tr style=\"text-align: right;\">\n",
       "      <th></th>\n",
       "      <th>Coefficient</th>\n",
       "    </tr>\n",
       "  </thead>\n",
       "  <tbody>\n",
       "    <tr>\n",
       "      <th>Total_Area</th>\n",
       "      <td>2.594258e-15</td>\n",
       "    </tr>\n",
       "    <tr>\n",
       "      <th>price</th>\n",
       "      <td>1.000000e+00</td>\n",
       "    </tr>\n",
       "    <tr>\n",
       "      <th>bedrooms</th>\n",
       "      <td>4.527628e-16</td>\n",
       "    </tr>\n",
       "    <tr>\n",
       "      <th>baths</th>\n",
       "      <td>-1.457168e-16</td>\n",
       "    </tr>\n",
       "  </tbody>\n",
       "</table>\n",
       "</div>"
      ],
      "text/plain": [
       "             Coefficient\n",
       "Total_Area  2.594258e-15\n",
       "price       1.000000e+00\n",
       "bedrooms    4.527628e-16\n",
       "baths      -1.457168e-16"
      ]
     },
     "execution_count": 24,
     "metadata": {},
     "output_type": "execute_result"
    }
   ],
   "source": [
    "coeff_df = pd.DataFrame(lr.coef_,X.columns,columns=['Coefficient'])\n",
    "coeff_df"
   ]
  },
  {
   "cell_type": "code",
   "execution_count": 25,
   "id": "7f15a46d",
   "metadata": {
    "execution": {
     "iopub.execute_input": "2022-09-21T15:31:51.749230Z",
     "iopub.status.busy": "2022-09-21T15:31:51.748150Z",
     "iopub.status.idle": "2022-09-21T15:31:51.761788Z",
     "shell.execute_reply": "2022-09-21T15:31:51.760210Z"
    },
    "papermill": {
     "duration": 0.030851,
     "end_time": "2022-09-21T15:31:51.765165",
     "exception": false,
     "start_time": "2022-09-21T15:31:51.734314",
     "status": "completed"
    },
    "tags": []
   },
   "outputs": [],
   "source": [
    "predictions = lr.predict(X_test)"
   ]
  },
  {
   "cell_type": "code",
   "execution_count": 26,
   "id": "b3893267",
   "metadata": {
    "execution": {
     "iopub.execute_input": "2022-09-21T15:31:51.808628Z",
     "iopub.status.busy": "2022-09-21T15:31:51.808029Z",
     "iopub.status.idle": "2022-09-21T15:31:52.149106Z",
     "shell.execute_reply": "2022-09-21T15:31:52.147985Z"
    },
    "papermill": {
     "duration": 0.36562,
     "end_time": "2022-09-21T15:31:52.151555",
     "exception": false,
     "start_time": "2022-09-21T15:31:51.785935",
     "status": "completed"
    },
    "tags": []
   },
   "outputs": [
    {
     "data": {
      "text/plain": [
       "<matplotlib.collections.PathCollection at 0x7f4151fb98d0>"
      ]
     },
     "execution_count": 26,
     "metadata": {},
     "output_type": "execute_result"
    },
    {
     "data": {
      "image/png": "[encoded data removed]",
      "text/plain": [
       "<Figure size 432x288 with 1 Axes>"
      ]
     },
     "metadata": {
      "needs_background": "light"
     },
     "output_type": "display_data"
    }
   ],
   "source": [
    "plt.scatter(y_test,predictions)"
   ]
  },
  {
   "cell_type": "code",
   "execution_count": 27,
   "id": "cdbc5539",
   "metadata": {
    "execution": {
     "iopub.execute_input": "2022-09-21T15:31:52.179426Z",
     "iopub.status.busy": "2022-09-21T15:31:52.178992Z",
     "iopub.status.idle": "2022-09-21T15:31:52.648625Z",
     "shell.execute_reply": "2022-09-21T15:31:52.647450Z"
    },
    "papermill": {
     "duration": 0.486281,
     "end_time": "2022-09-21T15:31:52.651028",
     "exception": false,
     "start_time": "2022-09-21T15:31:52.164747",
     "status": "completed"
    },
    "tags": []
   },
   "outputs": [
    {
     "name": "stderr",
     "output_type": "stream",
     "text": [
      "/opt/conda/lib/python3.7/site-packages/seaborn/distributions.py:2619: FutureWarning: `distplot` is a deprecated function and will be removed in a future version. Please adapt your code to use either `displot` (a figure-level function with similar flexibility) or `histplot` (an axes-level function for histograms).\n",
      "  warnings.warn(msg, FutureWarning)\n"
     ]
    },
    {
     "data": {
      "image/png": "[encoded data removed]",
      "text/plain": [
       "<Figure size 432x288 with 1 Axes>"
      ]
     },
     "metadata": {
      "needs_background": "light"
     },
     "output_type": "display_data"
    }
   ],
   "source": [
    "import seaborn as sns\n",
    "sns.distplot((y_test-predictions),bins=50);"
   ]
  },
  {
   "cell_type": "code",
   "execution_count": 28,
   "id": "9a696e52",
   "metadata": {
    "execution": {
     "iopub.execute_input": "2022-09-21T15:31:52.680183Z",
     "iopub.status.busy": "2022-09-21T15:31:52.679473Z",
     "iopub.status.idle": "2022-09-21T15:31:52.684719Z",
     "shell.execute_reply": "2022-09-21T15:31:52.683657Z"
    },
    "papermill": {
     "duration": 0.022776,
     "end_time": "2022-09-21T15:31:52.687318",
     "exception": false,
     "start_time": "2022-09-21T15:31:52.664542",
     "status": "completed"
    },
    "tags": []
   },
   "outputs": [],
   "source": [
    "from sklearn import metrics"
   ]
  },
  {
   "cell_type": "code",
   "execution_count": 29,
   "id": "dfbd14e3",
   "metadata": {
    "execution": {
     "iopub.execute_input": "2022-09-21T15:31:52.716656Z",
     "iopub.status.busy": "2022-09-21T15:31:52.715629Z",
     "iopub.status.idle": "2022-09-21T15:31:52.724369Z",
     "shell.execute_reply": "2022-09-21T15:31:52.723202Z"
    },
    "papermill": {
     "duration": 0.026042,
     "end_time": "2022-09-21T15:31:52.726976",
     "exception": false,
     "start_time": "2022-09-21T15:31:52.700934",
     "status": "completed"
    },
    "tags": []
   },
   "outputs": [
    {
     "name": "stdout",
     "output_type": "stream",
     "text": [
      "MAE: 1.3505905999961572e-10\n",
      "MSE: 2.150877635927042e-20\n",
      "RMSE: 1.46658707069408e-10\n"
     ]
    }
   ],
   "source": [
    "print('MAE:', metrics.mean_absolute_error(y_test, predictions))\n",
    "print('MSE:', metrics.mean_squared_error(y_test, predictions))\n",
    "print('RMSE:', np.sqrt(metrics.mean_squared_error(y_test, predictions)))"
   ]
  }
 ],
 "metadata": {
  "kernelspec": {
   "display_name": "Python 3",
   "language": "python",
   "name": "python3"
  },
  "language_info": {
   "codemirror_mode": {
    "name": "ipython",
    "version": 3
   },
   "file_extension": ".py",
   "mimetype": "text/x-python",
   "name": "python",
   "nbconvert_exporter": "python",
   "pygments_lexer": "ipython3",
   "version": "3.7.12"
  },
  "papermill": {
   "default_parameters": {},
   "duration": 17.209985,
   "end_time": "2022-09-21T15:31:53.563538",
   "environment_variables": {},
   "exception": null,
   "input_path": "__notebook__.ipynb",
   "output_path": "__notebook__.ipynb",
   "parameters": {},
   "start_time": "2022-09-21T15:31:36.353553",
   "version": "2.3.4"
  }
 },
 "nbformat": 4,
 "nbformat_minor": 5
}
